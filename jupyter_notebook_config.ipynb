{
 "cells": [
  {
   "cell_type": "code",
   "execution_count": null,
   "id": "a34deead-d754-42bf-b768-a0b4ec33e23f",
   "metadata": {},
   "outputs": [],
   "source": [
    " #Password Protect Jupyter Notebook#"
   ]
  },
  {
   "cell_type": "code",
   "execution_count": 4,
   "id": "57a939c7-1c17-495d-b413-f9be54144933",
   "metadata": {},
   "outputs": [],
   "source": [
    "from jupyter_server.auth import passwd"
   ]
  },
  {
   "cell_type": "code",
   "execution_count": null,
   "id": "355f5721-e9ab-45e1-b6bf-d6a5d58c02d4",
   "metadata": {},
   "outputs": [],
   "source": [
    "#Data Encryption with cryptography Library#"
   ]
  },
  {
   "cell_type": "code",
   "execution_count": 6,
   "id": "a9884075-a1c3-4036-8ae5-ca17338b13a0",
   "metadata": {},
   "outputs": [
    {
     "name": "stdout",
     "output_type": "stream",
     "text": [
      "Encrypted Data: b'gAAAAABm4qHLyukJt-xemOG5JJgz20F77U3UkvbtS7RhaYQFrVKBCWeLhVcQA-hr08g9zwWPFKNCHhXGJRW9SVSmJPZgcMyz63s0NAf4YyCGWO_T-CioUNyqXEe7kn7Y0wL5-0PkKhyz'\n",
      "Decrypted Data: John Doe, age: 45, heart disease\n"
     ]
    }
   ],
   "source": [
    "# Install the cryptography package: !pip install cryptography\n",
    "from cryptography.fernet import Fernet\n",
    "\n",
    "# Generate a key for encryption\n",
    "key = Fernet.generate_key()\n",
    "cipher_suite = Fernet(key)\n",
    "\n",
    "# Encrypt sensitive data (e.g., patient info)\n",
    "sensitive_data = \"John Doe, age: 45, heart disease\"\n",
    "encrypted_data = cipher_suite.encrypt(sensitive_data.encode())\n",
    "\n",
    "print(\"Encrypted Data:\", encrypted_data)\n",
    "\n",
    "# Decrypt the data\n",
    "decrypted_data = cipher_suite.decrypt(encrypted_data).decode()\n",
    "print(\"Decrypted Data:\", decrypted_data)\n"
   ]
  },
  {
   "cell_type": "code",
   "execution_count": null,
   "id": "b048c644-038b-443c-9959-126c0d8d930e",
   "metadata": {},
   "outputs": [],
   "source": [
    "#Input Sanitization to Prevent Code Injection#"
   ]
  },
  {
   "cell_type": "code",
   "execution_count": 7,
   "id": "89ce4bf0-27f2-4cfb-899b-46ee1ec4465c",
   "metadata": {},
   "outputs": [
    {
     "name": "stdin",
     "output_type": "stream",
     "text": [
      "Enter patient name (letters and numbers only):  joe\n"
     ]
    },
    {
     "name": "stdout",
     "output_type": "stream",
     "text": [
      "Sanitized Input: joe\n"
     ]
    }
   ],
   "source": [
    "import re\n",
    "\n",
    "def sanitize_input(user_input):\n",
    "    # Allow only alphanumeric and a few safe characters\n",
    "    sanitized = re.sub(r'[^\\w\\s]', '', user_input)\n",
    "    return sanitized\n",
    "\n",
    "# Example: assuming user input is taken for processing\n",
    "user_input = input(\"Enter patient name (letters and numbers only): \")\n",
    "safe_input = sanitize_input(user_input)\n",
    "print(\"Sanitized Input:\", safe_input)\n"
   ]
  }
 ],
 "metadata": {
  "kernelspec": {
   "display_name": "Python 3 (ipykernel)",
   "language": "python",
   "name": "python3"
  },
  "language_info": {
   "codemirror_mode": {
    "name": "ipython",
    "version": 3
   },
   "file_extension": ".py",
   "mimetype": "text/x-python",
   "name": "python",
   "nbconvert_exporter": "python",
   "pygments_lexer": "ipython3",
   "version": "3.12.4"
  }
 },
 "nbformat": 4,
 "nbformat_minor": 5
}
